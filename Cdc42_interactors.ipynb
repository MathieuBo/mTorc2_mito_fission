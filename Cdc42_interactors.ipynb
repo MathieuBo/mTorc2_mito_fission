{
 "cells": [
  {
   "cell_type": "code",
   "execution_count": null,
   "metadata": {},
   "outputs": [],
   "source": [
    "import numpy as np\n",
    "import pandas as pd\n",
    "import matplotlib.pyplot as plt\n",
    "import seaborn as sns"
   ]
  },
  {
   "cell_type": "markdown",
   "metadata": {},
   "source": [
    "## Load"
   ]
  },
  {
   "cell_type": "code",
   "execution_count": 10,
   "metadata": {},
   "outputs": [],
   "source": [
    "data = pd.read_excel('../Proteomics6_GFP_Cdc42_coIP.xlsx', sheet_name='GFP-Cdc42 vs GFP')"
   ]
  },
  {
   "cell_type": "markdown",
   "metadata": {},
   "source": [
    "## Volcano plot"
   ]
  },
  {
   "cell_type": "code",
   "execution_count": 11,
   "metadata": {},
   "outputs": [
    {
     "data": {
      "image/png": "[encoded data removed]",
      "text/plain": [
       "<Figure size 360x288 with 1 Axes>"
      ]
     },
     "metadata": {
      "needs_background": "light"
     },
     "output_type": "display_data"
    }
   ],
   "source": [
    "fig, ax = plt.subplots(figsize=(5,4), constrained_layout=True)\n",
    "ax.spines['right'].set_visible(False)\n",
    "ax.spines['top'].set_visible(False)\n",
    "\n",
    "count_pos = 0\n",
    "count_neg = 0\n",
    "\n",
    "for i in data.index:\n",
    "    \n",
    "    if data.loc[i, 'Fold Change (GFP-CDC42/GFP)'] >=1.5 and data.loc[i, 'p-value'] >= -np.log2(0.05):\n",
    "        \n",
    "        plt.scatter(x=data.loc[i, 'Fold Change (GFP-CDC42/GFP)'], y=data.loc[i, 'p-value'], alpha=.5, c='#BF616A')\n",
    "        \n",
    "        count_pos += 1\n",
    "        \n",
    "    elif data.loc[i, 'Fold Change (GFP-CDC42/GFP)'] <=-1.5 and data.loc[i, 'p-value'] >= -np.log2(0.05):\n",
    "        \n",
    "        plt.scatter(x=data.loc[i, 'Fold Change (GFP-CDC42/GFP)'], y=data.loc[i, 'p-value'], alpha=.5, c='#5E81AC')    \n",
    "    \n",
    "        count_neg += 1\n",
    "        \n",
    "    else: \n",
    "        plt.scatter(x=data.loc[i, 'Fold Change (GFP-CDC42/GFP)'], y=data.loc[i, 'p-value'], alpha=.5, c='gray')    \n",
    "    \n",
    "    \n",
    "plt.axhline(y=-np.log2(0.05), color='k', linestyle='dashed', linewidth=1)\n",
    "plt.axvline(x=-1.5, color='k', linestyle='dashed', linewidth=1)\n",
    "plt.axvline(x=1.5, color='k', linestyle='dashed', linewidth=1)\n",
    "\n",
    "plt.xlim(-10,10)\n",
    "plt.ylim(0, 25)\n",
    "\n",
    "plt.ylabel('-log2(p-value)', fontdict={'size': 14})\n",
    "plt.xlabel('log2 FC(Cdc42/GFP)', fontdict={'size': 14})\n",
    "\n",
    "plt.savefig('./volcano.png', dpi=300)\n",
    "\n",
    "plt.show()"
   ]
  },
  {
   "cell_type": "markdown",
   "metadata": {},
   "source": [
    "## Hits export"
   ]
  },
  {
   "cell_type": "code",
   "execution_count": 16,
   "metadata": {},
   "outputs": [],
   "source": [
    "hits = data[(data['Fold Change (GFP-CDC42/GFP)'] >= 1) & (data['p-value'] >= -np.log2(0.1))]"
   ]
  },
  {
   "cell_type": "code",
   "execution_count": 17,
   "metadata": {},
   "outputs": [],
   "source": [
    "hits['Gene Symbol'].to_clipboard(index=False)"
   ]
  },
  {
   "cell_type": "markdown",
   "metadata": {},
   "source": [
    "## Network table"
   ]
  },
  {
   "cell_type": "code",
   "execution_count": 18,
   "metadata": {},
   "outputs": [
    {
     "name": "stderr",
     "output_type": "stream",
     "text": [
      "/opt/anaconda3/lib/python3.7/site-packages/pandas/core/indexing.py:1596: SettingWithCopyWarning: \n",
      "A value is trying to be set on a copy of a slice from a DataFrame.\n",
      "Try using .loc[row_indexer,col_indexer] = value instead\n",
      "\n",
      "See the caveats in the documentation: https://pandas.pydata.org/pandas-docs/stable/user_guide/indexing.html#returning-a-view-versus-a-copy\n",
      "  self.obj[key] = _infer_fill_value(value)\n",
      "/opt/anaconda3/lib/python3.7/site-packages/pandas/core/indexing.py:1765: SettingWithCopyWarning: \n",
      "A value is trying to be set on a copy of a slice from a DataFrame.\n",
      "Try using .loc[row_indexer,col_indexer] = value instead\n",
      "\n",
      "See the caveats in the documentation: https://pandas.pydata.org/pandas-docs/stable/user_guide/indexing.html#returning-a-view-versus-a-copy\n",
      "  isetter(loc, value)\n"
     ]
    }
   ],
   "source": [
    "# Create table for network\n",
    "\n",
    "ntwk = hits[['Gene Symbol', 'Fold Change (GFP-CDC42/GFP)', 'p-value', 'Score']]\n",
    "\n",
    "ntwk.loc[:, 'target'] = 'Cdc42-GFP'"
   ]
  },
  {
   "cell_type": "code",
   "execution_count": 19,
   "metadata": {},
   "outputs": [],
   "source": [
    "ntwk = ntwk.rename(columns={'Gene Symbol': 'source'})"
   ]
  },
  {
   "cell_type": "code",
   "execution_count": 20,
   "metadata": {},
   "outputs": [],
   "source": [
    "with pd.ExcelWriter('../Proteomics6_GFP_Cdc42_coIP.xlsx', engine='openpyxl', mode='a') as writer:\n",
    "    \n",
    "    ntwk.to_excel(writer, sheet_name='data_for_network')"
   ]
  }
 ],
 "metadata": {
  "kernelspec": {
   "display_name": "math",
   "language": "python",
   "name": "math"
  },
  "language_info": {
   "codemirror_mode": {
    "name": "ipython",
    "version": 3
   },
   "file_extension": ".py",
   "mimetype": "text/x-python",
   "name": "python",
   "nbconvert_exporter": "python",
   "pygments_lexer": "ipython3",
   "version": "3.7.6"
  }
 },
 "nbformat": 4,
 "nbformat_minor": 5
}
