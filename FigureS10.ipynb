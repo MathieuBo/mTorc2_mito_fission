{
 "cells": [
  {
   "cell_type": "code",
   "execution_count": 1,
   "metadata": {},
   "outputs": [],
   "source": [
    "import numpy as np\n",
    "import pandas as pd\n",
    "import matplotlib.pyplot as plt"
   ]
  },
  {
   "cell_type": "code",
   "execution_count": 2,
   "metadata": {},
   "outputs": [],
   "source": [
    "# Plot settings\n",
    "\n",
    "plt.rc('xtick', labelsize=12)\n",
    "plt.rc('ytick', labelsize=12)\n",
    "plt.rc('font', family=\"Arial\")"
   ]
  },
  {
   "cell_type": "markdown",
   "metadata": {},
   "source": [
    "## Load data"
   ]
  },
  {
   "cell_type": "code",
   "execution_count": 3,
   "metadata": {},
   "outputs": [],
   "source": [
    "interactors = pd.read_excel('../Proteomics5_NDRG1_coIP.xlsx', sheet_name='WT vs IgG')"
   ]
  },
  {
   "cell_type": "code",
   "execution_count": 4,
   "metadata": {},
   "outputs": [],
   "source": [
    "mutant = pd.read_excel('../Proteomics5_NDRG1_coIP.xlsx', sheet_name='S336A vs WT - no IgG enriched')"
   ]
  },
  {
   "cell_type": "code",
   "execution_count": 5,
   "metadata": {},
   "outputs": [],
   "source": [
    "targets = ['Cdc42', 'Arhgef10', 'Grlf1; Arhgap35', 'Cit', 'Farp1', \n",
    "           'Arhgef2', 'Lrch2', 'Rock1', 'Lrch3', 'Arhgap28', 'Arhgap5']"
   ]
  },
  {
   "cell_type": "code",
   "execution_count": 11,
   "metadata": {},
   "outputs": [
    {
     "data": {
      "image/png": "[encoded data removed]",
      "text/plain": [
       "<Figure size 360x252 with 1 Axes>"
      ]
     },
     "metadata": {
      "needs_background": "light"
     },
     "output_type": "display_data"
    }
   ],
   "source": [
    "highlights = []\n",
    "\n",
    "plt.figure(figsize=(5,3.5))\n",
    "\n",
    "for t in targets: \n",
    "    \n",
    "    x = interactors.loc[interactors['Gene Symbol'] == t, 'Fold change WT/IgG'].values\n",
    "    y = - mutant.loc[mutant['Gene Symbol'] == t, 'Fold change WT/S336A'].values \n",
    "    #Fold change calculation was done in opposite direction\n",
    "\n",
    "    plt.scatter(x,y)\n",
    "    \n",
    "    if y<0 : \n",
    "    \n",
    "        plt.text(x+.01,y+.02,t, rotation=45)\n",
    "        \n",
    "        highlights.append({'Gene Symbol': t, 'FC WT/IgG': x[0], 'FC S336A/WT': y[0]})\n",
    "\n",
    "plt.axhline(y=0, linestyle='dashed', c='gray', linewidth=1)\n",
    "plt.axvline(x=0, linestyle='dashed', c='gray', linewidth=1)\n",
    "\n",
    "plt.ylabel('Log2 FC(S336A/WT)')\n",
    "plt.xlabel('Log2 FC(WT/IgG)')\n",
    "\n",
    "plt.ylim(-.4, .4)\n",
    "plt.xlim(-1.5, 1.5)\n",
    "\n",
    "plt.savefig('./Cdc42_targets.png', dpi=300)\n",
    "\n",
    "plt.show()    "
   ]
  },
  {
   "cell_type": "markdown",
   "metadata": {},
   "source": [
    "## Export relevant hits in Excel"
   ]
  },
  {
   "cell_type": "code",
   "execution_count": 13,
   "metadata": {},
   "outputs": [],
   "source": [
    "h = pd.DataFrame(highlights)"
   ]
  },
  {
   "cell_type": "code",
   "execution_count": 14,
   "metadata": {},
   "outputs": [],
   "source": [
    "with pd.ExcelWriter('../Proteomics5_NDRG1_coIP.xlsx', engine='openpyxl', mode='a') as writer:\n",
    "    h.to_excel(writer, sheet_name='NDRG1_interactors')"
   ]
  }
 ],
 "metadata": {
  "kernelspec": {
   "display_name": "math",
   "language": "python",
   "name": "math"
  },
  "language_info": {
   "codemirror_mode": {
    "name": "ipython",
    "version": 3
   },
   "file_extension": ".py",
   "mimetype": "text/x-python",
   "name": "python",
   "nbconvert_exporter": "python",
   "pygments_lexer": "ipython3",
   "version": "3.7.6"
  }
 },
 "nbformat": 4,
 "nbformat_minor": 4
}
